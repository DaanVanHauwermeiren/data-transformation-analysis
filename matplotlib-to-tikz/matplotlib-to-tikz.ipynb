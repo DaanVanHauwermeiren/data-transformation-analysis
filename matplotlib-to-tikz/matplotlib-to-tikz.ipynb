{
 "cells": [
  {
   "cell_type": "code",
   "execution_count": 9,
   "metadata": {
    "collapsed": true
   },
   "outputs": [],
   "source": [
    "import matplotlib as mpl\n",
    "import matplotlib.pyplot as plt\n",
    "import pandas as pd\n",
    "import seaborn as sns\n",
    "from matplotlib2tikz import save as tikz_save\n",
    "import matplotlib2tikz\n",
    "import sys"
   ]
  },
  {
   "cell_type": "code",
   "execution_count": 10,
   "metadata": {
    "collapsed": false
   },
   "outputs": [
    {
     "data": {
      "text/plain": [
       "sys.version_info(major=2, minor=7, micro=11, releaselevel='final', serial=0)"
      ]
     },
     "execution_count": 10,
     "metadata": {},
     "output_type": "execute_result"
    }
   ],
   "source": [
    "sys.version_info"
   ]
  },
  {
   "cell_type": "code",
   "execution_count": 11,
   "metadata": {
    "collapsed": false
   },
   "outputs": [
    {
     "data": {
      "text/plain": [
       "'1.5.1'"
      ]
     },
     "execution_count": 11,
     "metadata": {},
     "output_type": "execute_result"
    }
   ],
   "source": [
    "mpl.__version__"
   ]
  },
  {
   "cell_type": "code",
   "execution_count": 12,
   "metadata": {
    "collapsed": false
   },
   "outputs": [
    {
     "data": {
      "text/plain": [
       "'0.7.0'"
      ]
     },
     "execution_count": 12,
     "metadata": {},
     "output_type": "execute_result"
    }
   ],
   "source": [
    "sns.__version__"
   ]
  },
  {
   "cell_type": "code",
   "execution_count": 13,
   "metadata": {
    "collapsed": false
   },
   "outputs": [
    {
     "data": {
      "text/plain": [
       "'0.6.11'"
      ]
     },
     "execution_count": 13,
     "metadata": {},
     "output_type": "execute_result"
    }
   ],
   "source": [
    "matplotlib2tikz.__version__"
   ]
  },
  {
   "cell_type": "code",
   "execution_count": null,
   "metadata": {
    "collapsed": false
   },
   "outputs": [],
   "source": [
    "df = pd.DataFrame.from_csv(\"test.csv\", sep=',')\n",
    "\n",
    "sns.set('paper', 'white',\n",
    "        rc={'font.size': 10, 'axes.labelsize': 10,\n",
    "            'legend.fontsize': 8, 'axes.titlesize': 10,\n",
    "            'xtick.labelsize': 8,'ytick.labelsize': 8, \n",
    "            \"pgf.rcfonts\": False,\n",
    "           })\n",
    "plt.rc('font', **{'family': 'serif', 'serif': ['Times']})\n",
    "plt.rc('text', usetex=True)\n",
    "fig, ax = plt.subplots(figsize=(6,6))\n",
    "ax = sns.heatmap(df, linewidths=.5, ax=ax, cbar=False)\n",
    "fig.savefig('heatmap_nocbar.pgf')"
   ]
  },
  {
   "cell_type": "code",
   "execution_count": null,
   "metadata": {
    "collapsed": true
   },
   "outputs": [],
   "source": [
    "df = pd.DataFrame.from_csv(\"test.csv\", sep=',')\n",
    "\n",
    "sns.set('paper', 'white',\n",
    "        rc={'font.size': 10, 'axes.labelsize': 10,\n",
    "            'legend.fontsize': 8, 'axes.titlesize': 10,\n",
    "            'xtick.labelsize': 8,'ytick.labelsize': 8, \n",
    "            \"pgf.rcfonts\": False,\n",
    "           })\n",
    "plt.rc('font', **{'family': 'serif', 'serif': ['Times']})\n",
    "plt.rc('text', usetex=True)\n",
    "fig, ax = plt.subplots()\n",
    "ax = sns.heatmap(df, linewidths=.5, ax=ax, )\n",
    "tikz_save('colormap.tex', figure=fig, strict=True)"
   ]
  }
 ],
 "metadata": {
  "anaconda-cloud": {},
  "kernelspec": {
   "display_name": "Python [conda env:PBM_testing]",
   "language": "python",
   "name": "conda-env-PBM_testing-py"
  },
  "language_info": {
   "codemirror_mode": {
    "name": "ipython",
    "version": 2
   },
   "file_extension": ".py",
   "mimetype": "text/x-python",
   "name": "python",
   "nbconvert_exporter": "python",
   "pygments_lexer": "ipython2",
   "version": "2.7.11"
  }
 },
 "nbformat": 4,
 "nbformat_minor": 2
}
