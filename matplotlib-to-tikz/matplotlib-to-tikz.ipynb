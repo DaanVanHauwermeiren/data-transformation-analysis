{
 "cells": [
  {
   "cell_type": "code",
   "execution_count": null,
   "metadata": {
    "collapsed": false
   },
   "outputs": [],
   "source": [
    "import matplotlib as mpl\n",
    "import matplotlib.pyplot as plt\n",
    "import pandas as pd\n",
    "import seaborn as sns\n",
    "from matplotlib2tikz import save as tikz_save\n",
    "import matplotlib2tikz\n",
    "import sys"
   ]
  },
  {
   "cell_type": "code",
   "execution_count": 2,
   "metadata": {
    "collapsed": false
   },
   "outputs": [
    {
     "data": {
      "text/plain": [
       "sys.version_info(major=2, minor=7, micro=11, releaselevel='final', serial=0)"
      ]
     },
     "execution_count": 2,
     "metadata": {},
     "output_type": "execute_result"
    }
   ],
   "source": [
    "sys.version_info"
   ]
  },
  {
   "cell_type": "code",
   "execution_count": 3,
   "metadata": {
    "collapsed": false
   },
   "outputs": [
    {
     "data": {
      "text/plain": [
       "'1.5.1'"
      ]
     },
     "execution_count": 3,
     "metadata": {},
     "output_type": "execute_result"
    }
   ],
   "source": [
    "mpl.__version__"
   ]
  },
  {
   "cell_type": "code",
   "execution_count": 4,
   "metadata": {
    "collapsed": false
   },
   "outputs": [
    {
     "data": {
      "text/plain": [
       "'0.7.0'"
      ]
     },
     "execution_count": 4,
     "metadata": {},
     "output_type": "execute_result"
    }
   ],
   "source": [
    "sns.__version__"
   ]
  },
  {
   "cell_type": "code",
   "execution_count": 5,
   "metadata": {
    "collapsed": false
   },
   "outputs": [
    {
     "data": {
      "text/plain": [
       "'0.6.11'"
      ]
     },
     "execution_count": 5,
     "metadata": {},
     "output_type": "execute_result"
    }
   ],
   "source": [
    "matplotlib2tikz.__version__"
   ]
  },
  {
   "cell_type": "code",
   "execution_count": null,
   "metadata": {
    "collapsed": false
   },
   "outputs": [],
   "source": [
    "df = pd.DataFrame.from_csv(\"test.csv\", sep=',')\n",
    "\n",
    "sns.set('paper', 'white',\n",
    "        rc={'font.size': 10, 'axes.labelsize': 10,\n",
    "            'legend.fontsize': 8, 'axes.titlesize': 10,\n",
    "            'xtick.labelsize': 8,'ytick.labelsize': 8, \n",
    "            \"pgf.rcfonts\": False,\n",
    "           })\n",
    "plt.rc('font', **{'family': 'serif', 'serif': ['Times']})\n",
    "plt.rc('text', usetex=True)\n",
    "fig, ax = plt.subplots(figsize=(6,6))\n",
    "ax = sns.heatmap(df, linewidths=.5, ax=ax, cbar=False)\n",
    "fig.savefig('heatmap_nocbar.pgf')"
   ]
  },
  {
   "cell_type": "code",
   "execution_count": null,
   "metadata": {
    "collapsed": false
   },
   "outputs": [],
   "source": [
    "df = pd.DataFrame.from_csv(\"test.csv\", sep=',')\n",
    "\n",
    "sns.set('paper', 'white',\n",
    "        rc={'font.size': 10, 'axes.labelsize': 10,\n",
    "            'legend.fontsize': 8, 'axes.titlesize': 10,\n",
    "            'xtick.labelsize': 8,'ytick.labelsize': 8, \n",
    "            \"pgf.rcfonts\": False,\n",
    "           })\n",
    "plt.rc('font', **{'family': 'serif', 'serif': ['Times']})\n",
    "plt.rc('text', usetex=True)\n",
    "fig, ax = plt.subplots()\n",
    "ax = sns.heatmap(df, linewidths=.5, ax=ax, )\n",
    "tikz_save('colorbar.tex', figure=fig, strict=True)"
   ]
  },
  {
   "cell_type": "markdown",
   "metadata": {},
   "source": [
    "remove unnecessary data from colorbar.tex"
   ]
  },
  {
   "cell_type": "code",
   "execution_count": null,
   "metadata": {
    "collapsed": false
   },
   "outputs": [],
   "source": [
    "writeswitch = ['\\\\begin{axis}[\\n', 'colorbar,\\n', ']\\n', '\\\\end{axis}\\n']\n",
    "# open original file\n",
    "with open('./colorbar.tex', 'r') as f:\n",
    "    data = f.readlines()\n",
    "# get the indices in the data to delete the unnecessary lines \n",
    "indices = map(lambda element: data.index(element) if element in data else None, writeswitch)\n",
    "# generate list with line numbers to keep\n",
    "data_indices = range(0, indices[0]+1) \\\n",
    "    + range(indices[1], indices[2]+1) + range(indices[3], len(data))\n",
    "output_data = [data[i] for i in data_indices]\n",
    "# add the hide axis line after \\begin{axis}\n",
    "output_data.insert(data_indices[0], 'hide axis,\\n')\n",
    "output_data = ''.join(output_data)\n",
    "# write out to new file\n",
    "with open('./colorbar_final.tex', 'w') as f:\n",
    "    f.write(output_data)"
   ]
  }
 ],
 "metadata": {
  "anaconda-cloud": {},
  "kernelspec": {
   "display_name": "Python [conda env:PBM_testing]",
   "language": "python",
   "name": "conda-env-PBM_testing-py"
  },
  "language_info": {
   "codemirror_mode": {
    "name": "ipython",
    "version": 2
   },
   "file_extension": ".py",
   "mimetype": "text/x-python",
   "name": "python",
   "nbconvert_exporter": "python",
   "pygments_lexer": "ipython2",
   "version": "2.7.11"
  }
 },
 "nbformat": 4,
 "nbformat_minor": 2
}
