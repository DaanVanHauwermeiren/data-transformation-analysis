{
 "cells": [
  {
   "cell_type": "markdown",
   "metadata": {
    "toc": "true"
   },
   "source": [
    "# Table of Contents\n",
    " <p>"
   ]
  },
  {
   "cell_type": "markdown",
   "metadata": {},
   "source": [
    "converting htm files in MIME format to csv files"
   ]
  },
  {
   "cell_type": "markdown",
   "metadata": {},
   "source": [
    "load libraries"
   ]
  },
  {
   "cell_type": "code",
   "execution_count": null,
   "metadata": {
    "ExecuteTime": {
     "end_time": "2017-03-30T09:47:56.292839",
     "start_time": "2017-03-30T09:47:55.735308"
    },
    "collapsed": true
   },
   "outputs": [],
   "source": [
    "import pandas as pd\n",
    "import os\n",
    "import sys\n",
    "import mimetypes\n",
    "import email\n",
    "import glob"
   ]
  },
  {
   "cell_type": "markdown",
   "metadata": {},
   "source": [
    "ref: http://stackoverflow.com/questions/7446284/read-mime-message-stored-in-text-file-with-python"
   ]
  },
  {
   "cell_type": "markdown",
   "metadata": {},
   "source": [
    "Store your mht files in the same folder as this notebook.\n",
    "\n",
    "The cell below gets the file names."
   ]
  },
  {
   "cell_type": "code",
   "execution_count": null,
   "metadata": {
    "ExecuteTime": {
     "end_time": "2017-03-30T09:01:02.598767",
     "start_time": "2017-03-30T09:01:02.593407"
    },
    "collapsed": false
   },
   "outputs": [],
   "source": [
    "mht_files = glob.glob(os.path.join(os.path.curdir, '*.mht'))"
   ]
  },
  {
   "cell_type": "markdown",
   "metadata": {},
   "source": [
    "the next cell parses the mht-files, splits them by content type (html, jpg, etc.) and writes the output of the chunks to the hard disk"
   ]
  },
  {
   "cell_type": "code",
   "execution_count": null,
   "metadata": {
    "ExecuteTime": {
     "end_time": "2017-03-30T09:18:17.253063",
     "start_time": "2017-03-30T09:18:17.142417"
    },
    "collapsed": false
   },
   "outputs": [],
   "source": [
    "for filepath in mht_files:\n",
    "    # get the name of the file, e.g. ./31521derp.mht -> 31521derp\n",
    "    filename_base = os.path.split(filepath)[-1].split('.mht')[0]\n",
    "    # open mht file\n",
    "    with open(filepath, 'r') as f:\n",
    "        msg = email.message_from_file(f)\n",
    "    # loop over the parts in the file\n",
    "    for i, part in enumerate(msg.walk(), start=1):\n",
    "        print('chunk %g is type: '%i + part.get_content_type())\n",
    "        if part.get_content_maintype() == 'multipart':\n",
    "            print('content type is multipart, skipping chunk %g'%i)\n",
    "            continue\n",
    "        ext = mimetypes.guess_extension(part.get_content_type())\n",
    "        filename = filename_base + '_part-%03d%s'%(i, ext)\n",
    "        filename = os.path.join(os.path.curdir, filename)\n",
    "        print(filename)\n",
    "        with open(filename, 'wb') as fp:\n",
    "            fp.write(part.get_payload(decode=True))"
   ]
  },
  {
   "cell_type": "markdown",
   "metadata": {},
   "source": [
    "get the name of the stripped files with only html content"
   ]
  },
  {
   "cell_type": "code",
   "execution_count": null,
   "metadata": {
    "ExecuteTime": {
     "end_time": "2017-03-30T09:18:50.846907",
     "start_time": "2017-03-30T09:18:50.841774"
    },
    "collapsed": true
   },
   "outputs": [],
   "source": [
    "html_files = glob.glob(os.path.join(os.path.curdir, '*part*.htm*'))"
   ]
  },
  {
   "cell_type": "code",
   "execution_count": null,
   "metadata": {
    "ExecuteTime": {
     "end_time": "2017-03-30T09:18:51.452527",
     "start_time": "2017-03-30T09:18:51.439362"
    },
    "collapsed": false
   },
   "outputs": [],
   "source": [
    "html_files"
   ]
  },
  {
   "cell_type": "markdown",
   "metadata": {},
   "source": [
    "loop over files, clip the unnecessary data and store the csv files"
   ]
  },
  {
   "cell_type": "code",
   "execution_count": null,
   "metadata": {
    "ExecuteTime": {
     "end_time": "2017-03-30T09:18:54.678804",
     "start_time": "2017-03-30T09:18:52.323373"
    },
    "collapsed": false
   },
   "outputs": [],
   "source": [
    "for filepath in html_files:\n",
    "    filename_base = os.path.split(filepath)[-1].split('_')[0]\n",
    "    # read in html, result is a list of pandas dataframes\n",
    "    input_html = pd.read_html(filepath, thousands='')\n",
    "    # the data of interest appears every three dataframes, starting from index\n",
    "    # two, the end is at -6 to clip the unnecessary data at the end.\n",
    "    processed_html = input_html[2:-6:3]\n",
    "    # remove the index from the dataframes\n",
    "    processed_html_values = [x.iloc[0] for x in processed_html]\n",
    "    # concat the dataframes\n",
    "    df_processed_data = pd.concat(processed_html_values, axis=1)\n",
    "    # DECREPATED: index is only needed if you need the first tabel.\n",
    "    # add the index: the values of the first column of any (here the first) df\n",
    "    # in processed_html\n",
    "    #df_processed_data.index = processed_html[0][0].values\n",
    "    # write to file:\n",
    "    #filepath_output = os.path.join(os.path.curdir, filename_base + '.csv')\n",
    "    #df_processed_data.to_csv(filepath_output, encoding='utf-8')\n",
    "    # write transposed to file:\n",
    "    filepath_output = os.path.join(os.path.curdir, filename_base + '_transposed.csv')\n",
    "    df_processed_data.T.to_csv(filepath_output, encoding='utf-8')"
   ]
  },
  {
   "cell_type": "code",
   "execution_count": null,
   "metadata": {
    "ExecuteTime": {
     "end_time": "2017-03-30T09:16:37.362030",
     "start_time": "2017-03-30T09:16:37.288257"
    },
    "collapsed": false
   },
   "outputs": [],
   "source": []
  },
  {
   "cell_type": "code",
   "execution_count": null,
   "metadata": {
    "collapsed": true
   },
   "outputs": [],
   "source": []
  }
 ],
 "metadata": {
  "anaconda-cloud": {},
  "hide_input": false,
  "kernelspec": {
   "display_name": "Python [conda env:py35]",
   "language": "python",
   "name": "conda-env-py35-py"
  },
  "language_info": {
   "codemirror_mode": {
    "name": "ipython",
    "version": 3
   },
   "file_extension": ".py",
   "mimetype": "text/x-python",
   "name": "python",
   "nbconvert_exporter": "python",
   "pygments_lexer": "ipython3",
   "version": "3.5.1"
  },
  "toc": {
   "toc_cell": true,
   "toc_number_sections": true,
   "toc_threshold": 6,
   "toc_window_display": true
  }
 },
 "nbformat": 4,
 "nbformat_minor": 2
}
